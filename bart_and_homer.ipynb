{
  "nbformat": 4,
  "nbformat_minor": 0,
  "metadata": {
    "colab": {
      "provenance": []
    },
    "kernelspec": {
      "name": "python3",
      "display_name": "Python 3"
    },
    "language_info": {
      "name": "python"
    }
  },
  "cells": [
    {
      "cell_type": "code",
      "execution_count": null,
      "metadata": {
        "id": "yErycb4L9DOS"
      },
      "outputs": [],
      "source": [
        "!pip install -q keras\n",
        "!pip install -q tensorflow"
      ]
    },
    {
      "cell_type": "code",
      "source": [
        "import tensorflow as tf\n",
        "from tensorflow import keras\n",
        "from keras import datasets\n",
        "from keras import layers\n",
        "from keras import regularizers\n",
        "from keras.preprocessing.image import ImageDataGenerator"
      ],
      "metadata": {
        "id": "nykXaHhNNXjR"
      },
      "execution_count": null,
      "outputs": []
    },
    {
      "cell_type": "code",
      "source": [
        "image_height=64\n",
        "image_width=64\n",
        "batch_size=32"
      ],
      "metadata": {
        "id": "SGeg41C7IG3c"
      },
      "execution_count": null,
      "outputs": []
    },
    {
      "cell_type": "code",
      "source": [
        "from google.colab import drive\n",
        "drive.mount('/content/drive')"
      ],
      "metadata": {
        "colab": {
          "base_uri": "https://localhost:8080/"
        },
        "id": "fnFzktADNgE0",
        "outputId": "a1d5d7cc-a197-4624-ffe5-a68dfcabc6e3"
      },
      "execution_count": null,
      "outputs": [
        {
          "output_type": "stream",
          "name": "stdout",
          "text": [
            "Drive already mounted at /content/drive; to attempt to forcibly remount, call drive.mount(\"/content/drive\", force_remount=True).\n"
          ]
        }
      ]
    },
    {
      "cell_type": "code",
      "source": [
        "ds_train=tf.keras.preprocessing.image_dataset_from_directory(\n",
        "    '/content/drive/MyDrive/dataset',\n",
        "    labels='inferred',\n",
        "    color_mode='rgb',\n",
        "    label_mode='binary',\n",
        "    batch_size=batch_size,\n",
        "    image_size=(image_height,image_width),\n",
        "    #class_mode='binary',\n",
        "    shuffle=True,\n",
        "    seed=123,\n",
        "    validation_split=0.1,\n",
        "    subset='training'\n",
        ")"
      ],
      "metadata": {
        "colab": {
          "base_uri": "https://localhost:8080/"
        },
        "id": "2AhJqcUEIQnn",
        "outputId": "b9bdf2dd-54bb-495a-9b42-765eaff740d6"
      },
      "execution_count": null,
      "outputs": [
        {
          "output_type": "stream",
          "name": "stdout",
          "text": [
            "Found 269 files belonging to 2 classes.\n",
            "Using 243 files for training.\n"
          ]
        }
      ]
    },
    {
      "cell_type": "code",
      "source": [
        "ds_test=tf.keras.preprocessing.image_dataset_from_directory(\n",
        "    '/content/drive/MyDrive/dataset',\n",
        "    labels='inferred',\n",
        "    color_mode='rgb',\n",
        "    batch_size=batch_size,\n",
        "    label_mode='binary',\n",
        "    image_size=(image_height,image_width),\n",
        "    #class_mode='binary',\n",
        "    shuffle=True,\n",
        "    seed=123,\n",
        "    validation_split=0.1,\n",
        "    subset='validation'\n",
        ")"
      ],
      "metadata": {
        "colab": {
          "base_uri": "https://localhost:8080/"
        },
        "id": "0QDIzhGsOpWt",
        "outputId": "9c29dda0-3a43-4c19-d78c-e1600ed5f31d"
      },
      "execution_count": null,
      "outputs": [
        {
          "output_type": "stream",
          "name": "stdout",
          "text": [
            "Found 269 files belonging to 2 classes.\n",
            "Using 26 files for validation.\n"
          ]
        }
      ]
    },
    {
      "cell_type": "code",
      "source": [
        "preprocess = tf.keras.Sequential(\n",
        "    [tf.keras.layers.Rescaling(1/255.0)] # rescaling factor\n",
        ")"
      ],
      "metadata": {
        "id": "Qjf1vuJKVgBl"
      },
      "execution_count": null,
      "outputs": []
    },
    {
      "cell_type": "code",
      "source": [
        "model=keras.Sequential()\n",
        "model.add(keras.layers.Flatten(input_shape=(image_height,image_width,3)))\n",
        "model.add(preprocess)\n",
        "model.add(layers.Dense(256,input_shape=(image_height,image_width,3),activation='relu'))\n",
        "model.add(layers.Dense(512,activation='relu'))\n",
        "model.add(layers.Dense(256,activation='relu'))\n",
        "model.add(layers.Dense(1, activation='sigmoid'))"
      ],
      "metadata": {
        "id": "jgH3Uyx9OwSa"
      },
      "execution_count": null,
      "outputs": []
    },
    {
      "cell_type": "code",
      "source": [
        "model.summary()"
      ],
      "metadata": {
        "colab": {
          "base_uri": "https://localhost:8080/"
        },
        "id": "7C1dj-6KO2Dq",
        "outputId": "f911198c-eeef-4b99-8aa0-79abf6425dab"
      },
      "execution_count": null,
      "outputs": [
        {
          "output_type": "stream",
          "name": "stdout",
          "text": [
            "Model: \"sequential_11\"\n",
            "_________________________________________________________________\n",
            " Layer (type)                Output Shape              Param #   \n",
            "=================================================================\n",
            " flatten_9 (Flatten)         (None, 12288)             0         \n",
            "                                                                 \n",
            " sequential_9 (Sequential)   (None, 12288)             0         \n",
            "                                                                 \n",
            " dense_32 (Dense)            (None, 256)               3145984   \n",
            "                                                                 \n",
            " dense_33 (Dense)            (None, 512)               131584    \n",
            "                                                                 \n",
            " dense_34 (Dense)            (None, 256)               131328    \n",
            "                                                                 \n",
            " dense_35 (Dense)            (None, 1)                 257       \n",
            "                                                                 \n",
            "=================================================================\n",
            "Total params: 3409153 (13.00 MB)\n",
            "Trainable params: 3409153 (13.00 MB)\n",
            "Non-trainable params: 0 (0.00 Byte)\n",
            "_________________________________________________________________\n"
          ]
        }
      ]
    },
    {
      "cell_type": "code",
      "source": [
        "model.compile(optimizer='adam',loss='binary_crossentropy',metrics=['accuracy'])"
      ],
      "metadata": {
        "id": "gJJ-ybpFO8y7"
      },
      "execution_count": null,
      "outputs": []
    },
    {
      "cell_type": "code",
      "source": [
        "model.fit(ds_train,epochs=20,batch_size=32)"
      ],
      "metadata": {
        "colab": {
          "base_uri": "https://localhost:8080/"
        },
        "id": "cisQBo0LPA9k",
        "outputId": "32868ceb-f05d-490e-bd67-7e23ec2493b4"
      },
      "execution_count": null,
      "outputs": [
        {
          "output_type": "stream",
          "name": "stdout",
          "text": [
            "Epoch 1/20\n",
            "8/8 [==============================] - 2s 44ms/step - loss: 0.4635 - accuracy: 0.7613\n",
            "Epoch 2/20\n",
            "8/8 [==============================] - 2s 46ms/step - loss: 0.3658 - accuracy: 0.8189\n",
            "Epoch 3/20\n",
            "8/8 [==============================] - 2s 57ms/step - loss: 0.3445 - accuracy: 0.8313\n",
            "Epoch 4/20\n",
            "8/8 [==============================] - 2s 62ms/step - loss: 0.4264 - accuracy: 0.8189\n",
            "Epoch 5/20\n",
            "8/8 [==============================] - 2s 45ms/step - loss: 0.2638 - accuracy: 0.8971\n",
            "Epoch 6/20\n",
            "8/8 [==============================] - 2s 43ms/step - loss: 0.2470 - accuracy: 0.8930\n",
            "Epoch 7/20\n",
            "8/8 [==============================] - 2s 46ms/step - loss: 0.2675 - accuracy: 0.8683\n",
            "Epoch 8/20\n",
            "8/8 [==============================] - 2s 45ms/step - loss: 0.1867 - accuracy: 0.9218\n",
            "Epoch 9/20\n",
            "8/8 [==============================] - 2s 44ms/step - loss: 0.1378 - accuracy: 0.9506\n",
            "Epoch 10/20\n",
            "8/8 [==============================] - 2s 71ms/step - loss: 0.4011 - accuracy: 0.7901\n",
            "Epoch 11/20\n",
            "8/8 [==============================] - 2s 68ms/step - loss: 0.1724 - accuracy: 0.9383\n",
            "Epoch 12/20\n",
            "8/8 [==============================] - 2s 46ms/step - loss: 0.0584 - accuracy: 0.9877\n",
            "Epoch 13/20\n",
            "8/8 [==============================] - 2s 53ms/step - loss: 0.0361 - accuracy: 0.9959\n",
            "Epoch 14/20\n",
            "8/8 [==============================] - 2s 42ms/step - loss: 0.0168 - accuracy: 1.0000\n",
            "Epoch 15/20\n",
            "8/8 [==============================] - 2s 47ms/step - loss: 0.0135 - accuracy: 1.0000\n",
            "Epoch 16/20\n",
            "8/8 [==============================] - 2s 46ms/step - loss: 0.0037 - accuracy: 1.0000\n",
            "Epoch 17/20\n",
            "8/8 [==============================] - 2s 66ms/step - loss: 0.0018 - accuracy: 1.0000\n",
            "Epoch 18/20\n",
            "8/8 [==============================] - 2s 49ms/step - loss: 0.0010 - accuracy: 1.0000\n",
            "Epoch 19/20\n",
            "8/8 [==============================] - 2s 50ms/step - loss: 8.0658e-04 - accuracy: 1.0000\n",
            "Epoch 20/20\n",
            "8/8 [==============================] - 2s 46ms/step - loss: 5.7536e-04 - accuracy: 1.0000\n"
          ]
        },
        {
          "output_type": "execute_result",
          "data": {
            "text/plain": [
              "<keras.src.callbacks.History at 0x7e860dce4e50>"
            ]
          },
          "metadata": {},
          "execution_count": 102
        }
      ]
    },
    {
      "cell_type": "code",
      "source": [
        "model.evaluate(ds_test,batch_size=32)"
      ],
      "metadata": {
        "colab": {
          "base_uri": "https://localhost:8080/"
        },
        "id": "0AqB87VsPmzT",
        "outputId": "3d4561e3-65fb-49d2-de8c-819f9b0a2de0"
      },
      "execution_count": null,
      "outputs": [
        {
          "output_type": "stream",
          "name": "stdout",
          "text": [
            "1/1 [==============================] - 0s 183ms/step - loss: 0.5331 - accuracy: 0.8846\n"
          ]
        },
        {
          "output_type": "execute_result",
          "data": {
            "text/plain": [
              "[0.533126950263977, 0.8846153616905212]"
            ]
          },
          "metadata": {},
          "execution_count": 103
        }
      ]
    }
  ]
}